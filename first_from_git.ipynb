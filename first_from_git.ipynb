{
 "cells": [
  {
   "cell_type": "code",
   "execution_count": 4,
   "metadata": {},
   "outputs": [],
   "source": [
    "from pyknon.genmidi import Midi\n",
    "from pyknon.music import NoteSeq, Note, Rest\n",
    "\n",
    "import random"
   ]
  },
  {
   "cell_type": "code",
   "execution_count": 29,
   "metadata": {},
   "outputs": [],
   "source": [
    "notes1 = NoteSeq('A4 B8 C E4')\n",
    "midi = Midi(number_tracks=1, tempo=90)\n",
    "midi.seq_notes(notes1, track=0)\n",
    "midi.write('demo.mid')"
   ]
  },
  {
   "cell_type": "code",
   "execution_count": 32,
   "metadata": {},
   "outputs": [],
   "source": [
    "durations = [\n",
    "    1/2, # half note\n",
    "    1/4, # quarter note\n",
    "    1/8, # eighth note\n",
    "    1/16 # sixteenth note\n",
    "]\n",
    "\n",
    "'''\n",
    "0  1  2  3  4  5  6  7  8  9  10  11\n",
    "C  C# D  D# E  F  F# G  G# A  A#  B\n",
    "'''\n",
    "# A_major = ['A','B','C#','D','E','F#','G#']\n",
    "A_major = [9, 11, 1, 2, 4, 6, 8]\n",
    "# G_major = ['G','A','B','C','D','E','F#']\n",
    "G_major = [7, 9, 11, 0, 2, 4, 6]\n",
    "# D_major = ['D','E','F#','G','A','B','C#']\n",
    "D_major = [2, 4, 6, 7, 9, 11, 1]\n",
    "\n",
    "def get_random_notes(n, pitches, durations, rests=True):\n",
    "    if rests:\n",
    "        pitches.append('r')\n",
    "        \n",
    "    result = NoteSeq()\n",
    "\n",
    "    for i in range(n):\n",
    "        pitch = random.choice(pitches)\n",
    "        duration = random.choice(durations)\n",
    "        \n",
    "        if pitch == 'r':\n",
    "            result.append(Rest(dur=duration))\n",
    "        else:\n",
    "            result.append(Note(pitch, octave=4, dur=duration))\n",
    "\n",
    "    return result"
   ]
  },
  {
   "cell_type": "code",
   "execution_count": 35,
   "metadata": {},
   "outputs": [
    {
     "name": "stdout",
     "output_type": "stream",
     "text": [
      "<Seq: [<R: 0.125>, <B>, <G#>, <E>, <R: 0.125>, <R: 0.0625>, <D>, <R: 0.125>, <R: 0.0625>, <A>, <E>, <R: 0.125>, <F#>, <E>, <E>, <F#>, <F#>, <R: 0.0625>, <G#>, <A>]>\n"
     ]
    }
   ],
   "source": [
    "\n",
    "\n",
    "notes1 = get_random_notes(20, pitches=A_major, durations=[1/8, 1/16])\n",
    "midi = Midi(number_tracks=1, tempo=120)\n",
    "midi.seq_notes(notes1, track=0)\n",
    "midi.write('A_major.mid')\n",
    "\n",
    "print(notes1)\n",
    "\n"
   ]
  },
  {
   "cell_type": "code",
   "execution_count": 33,
   "metadata": {},
   "outputs": [],
   "source": [
    "hihat = NoteSeq('F#16,, R16') * 16\n",
    "kick_snare = NoteSeq('C16,, R16 R16 C16 D16 C16 R16 R16') * 4\n",
    "        \n",
    "midi = Midi(number_tracks=1, tempo=120)\n",
    "midi.seq_notes(hihat, track=0)\n",
    "midi.seq_notes(kick_snare, track=0)\n",
    "midi.write('drum.mid')"
   ]
  },
  {
   "cell_type": "code",
   "execution_count": 19,
   "metadata": {},
   "outputs": [],
   "source": [
    "midi = Midi(number_tracks=2, tempo=120)\n",
    "midi.seq_notes(hihat, track=0)\n",
    "midi.seq_notes(kick_snare, track=0)\n",
    "midi.seq_notes(notes1, track=1)\n",
    "midi.write('Amajor_drum.mid')"
   ]
  },
  {
   "cell_type": "code",
   "execution_count": 21,
   "metadata": {},
   "outputs": [],
   "source": [
    "piano = NoteSeq('A4, R4') * 4\n",
    "\n",
    "midi = Midi(number_tracks=3, tempo=120)\n",
    "midi.seq_notes(hihat, track=0)\n",
    "midi.seq_notes(kick_snare, track=0)\n",
    "midi.seq_notes(notes1, track=1)\n",
    "midi.seq_notes(piano, track=2)\n",
    "midi.write('Amajor_drum_piano.mid')"
   ]
  },
  {
   "cell_type": "code",
   "execution_count": null,
   "metadata": {},
   "outputs": [],
   "source": []
  }
 ],
 "metadata": {
  "kernelspec": {
   "display_name": "Python 3",
   "language": "python",
   "name": "python3"
  },
  "language_info": {
   "codemirror_mode": {
    "name": "ipython",
    "version": 3
   },
   "file_extension": ".py",
   "mimetype": "text/x-python",
   "name": "python",
   "nbconvert_exporter": "python",
   "pygments_lexer": "ipython3",
   "version": "3.7.6"
  }
 },
 "nbformat": 4,
 "nbformat_minor": 4
}
